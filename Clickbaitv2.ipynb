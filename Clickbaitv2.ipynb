{
 "cells": [
  {
   "cell_type": "code",
   "execution_count": 1,
   "metadata": {},
   "outputs": [],
   "source": [
    "import tensorflow as tf\n",
    "import matplotlib.pyplot as plt\n",
    "import numpy as np\n",
    "from sklearn.feature_extraction.text import TfidfVectorizer\n",
    "import sklearn.preprocessing as pre\n",
    "import tensorflow as tf\n",
    "import pandas as pd"
   ]
  },
  {
   "cell_type": "code",
   "execution_count": 2,
   "metadata": {},
   "outputs": [
    {
     "name": "stderr",
     "output_type": "stream",
     "text": [
      "/usr/local/lib/python3.5/dist-packages/ipykernel_launcher.py:1: ParserWarning: Falling back to the 'python' engine because the 'c' engine does not support regex separators (separators > 1 char and different from '\\s+' are interpreted as regex); you can avoid this warning by specifying engine='python'.\n",
      "  \"\"\"Entry point for launching an IPython kernel.\n"
     ]
    }
   ],
   "source": [
    "df = pd.read_csv(\"Training_Datasets/clickbait_dataset.csv\", sep = \";;\", header = None) \n",
    "npb = np.load(\"Training_Datasets/clickbait2.npy\")"
   ]
  },
  {
   "cell_type": "code",
   "execution_count": 3,
   "metadata": {},
   "outputs": [],
   "source": [
    "blacklist = np.load(\"blacklist.npy\")"
   ]
  },
  {
   "cell_type": "code",
   "execution_count": 4,
   "metadata": {
    "scrolled": true
   },
   "outputs": [],
   "source": [
    "npa = df.as_matrix()\n",
    "npb = np.array([npb[i] for i in range(len(npb)) if i not in blacklist])"
   ]
  },
  {
   "cell_type": "code",
   "execution_count": 5,
   "metadata": {},
   "outputs": [],
   "source": [
    "xa = npa[:,0]\n",
    "ya = npa[:,1]\n",
    "xb = npb[:,0]\n",
    "yb = npb[:,1].astype(float)"
   ]
  },
  {
   "cell_type": "code",
   "execution_count": 6,
   "metadata": {},
   "outputs": [],
   "source": [
    "x_tot = np.hstack([xa, xb])\n",
    "y_tot = np.hstack([ya, yb])"
   ]
  },
  {
   "cell_type": "code",
   "execution_count": 7,
   "metadata": {},
   "outputs": [],
   "source": [
    "p = np.random.permutation(len(x_tot))\n",
    "x_tot = x_tot[p]\n",
    "y_tot = y_tot[p]"
   ]
  },
  {
   "cell_type": "code",
   "execution_count": 14,
   "metadata": {},
   "outputs": [],
   "source": [
    "import pickle"
   ]
  },
  {
   "cell_type": "code",
   "execution_count": 22,
   "metadata": {},
   "outputs": [
    {
     "data": {
      "text/plain": [
       "array(['Is Adele Going To Call You',\n",
       "       'The Cavaliers lost a $40 million last season after spending the 2nd most in NBA history',\n",
       "       'Violence in Iran increases', ..., '',\n",
       "       'Isolated native tribe discovered in Brazil',\n",
       "       'Virginia dangerous dog law bill ready for Assembly debate'], dtype=object)"
      ]
     },
     "execution_count": 22,
     "metadata": {},
     "output_type": "execute_result"
    }
   ],
   "source": [
    "x_tot"
   ]
  },
  {
   "cell_type": "code",
   "execution_count": 15,
   "metadata": {},
   "outputs": [],
   "source": [
    ">>> from sklearn.feature_extraction.text import TfidfVectorizer\n",
    "tfidf = TfidfVectorizer(min_df=3)\n",
    "x_train = np.array(tfidf.fit_transform(x_tot).todense(), dtype=np.float32)\n",
    "pickle.dump(tfidf, open(\"tfidf_clickbait.p\", \"wb\" ))\n",
    "x_train = pre.normalize(x_train)\n",
    "y_train = np.array([i for i in y_tot])\n"
   ]
  },
  {
   "cell_type": "code",
   "execution_count": 26,
   "metadata": {},
   "outputs": [
    {
     "data": {
      "text/plain": [
       "(53570, 14184)"
      ]
     },
     "execution_count": 26,
     "metadata": {},
     "output_type": "execute_result"
    }
   ],
   "source": [
    "x_train.shape"
   ]
  },
  {
   "cell_type": "code",
   "execution_count": 9,
   "metadata": {},
   "outputs": [
    {
     "name": "stderr",
     "output_type": "stream",
     "text": [
      "Using TensorFlow backend.\n"
     ]
    },
    {
     "name": "stdout",
     "output_type": "stream",
     "text": [
      "Train on 42856 samples, validate on 10714 samples\n",
      "Epoch 1/10\n",
      "42856/42856 [==============================] - 25s 585us/step - loss: 0.8689 - val_loss: 0.1309\n",
      "Epoch 2/10\n",
      "42856/42856 [==============================] - 25s 581us/step - loss: 0.1247 - val_loss: 0.1206\n",
      "Epoch 3/10\n",
      "42856/42856 [==============================] - 25s 586us/step - loss: 0.1197 - val_loss: 0.1193\n",
      "Epoch 4/10\n",
      "42856/42856 [==============================] - 23s 544us/step - loss: 0.1196 - val_loss: 0.1195\n",
      "Epoch 5/10\n",
      "42856/42856 [==============================] - 23s 540us/step - loss: 0.1196 - val_loss: 0.1200\n",
      "Epoch 6/10\n",
      "42856/42856 [==============================] - 23s 538us/step - loss: 0.1210 - val_loss: 0.1211\n",
      "Epoch 7/10\n",
      "42856/42856 [==============================] - 24s 569us/step - loss: 0.1226 - val_loss: 0.1230\n",
      "Epoch 8/10\n",
      "42856/42856 [==============================] - 24s 570us/step - loss: 0.1238 - val_loss: 0.1247\n",
      "Epoch 9/10\n",
      "42856/42856 [==============================] - 26s 613us/step - loss: 0.1251 - val_loss: 0.1233\n",
      "Epoch 10/10\n",
      "42856/42856 [==============================] - 25s 575us/step - loss: 0.1257 - val_loss: 0.1272\n"
     ]
    }
   ],
   "source": [
    "from keras.models import Sequential\n",
    "from keras.layers import Dense, Dropout\n",
    "from keras import regularizers\n",
    "model = Sequential()\n",
    "model.add(Dense(500,input_dim = x_train.shape[1],activation='relu', kernel_regularizer=regularizers.l2(0.01)))\n",
    "model.add(Dropout(0.2))\n",
    "model.add(Dense(1))\n",
    "model.compile(loss='mse', optimizer='adam')\n",
    "model.fit(x_train, y_train, validation_split = 0.2, epochs=10, batch_size=500)\n",
    "model.save(\"Pretrained_models/Clickbaitv3.h5\")"
   ]
  },
  {
   "cell_type": "code",
   "execution_count": 14,
   "metadata": {},
   "outputs": [
    {
     "ename": "NameError",
     "evalue": "name 'keras' is not defined",
     "output_type": "error",
     "traceback": [
      "\u001b[0;31m---------------------------------------------------------------------------\u001b[0m",
      "\u001b[0;31mNameError\u001b[0m                                 Traceback (most recent call last)",
      "\u001b[0;32m<ipython-input-14-959f2dba1f99>\u001b[0m in \u001b[0;36m<module>\u001b[0;34m()\u001b[0m\n\u001b[0;32m----> 1\u001b[0;31m \u001b[0mkeras\u001b[0m\u001b[0;34m.\u001b[0m\u001b[0mload\u001b[0m\u001b[0;34m(\u001b[0m\u001b[0;34m\"Pretrained_models/Clickbaitv2\"\u001b[0m\u001b[0;34m)\u001b[0m\u001b[0;34m\u001b[0m\u001b[0m\n\u001b[0m",
      "\u001b[0;31mNameError\u001b[0m: name 'keras' is not defined"
     ]
    }
   ],
   "source": [
    ".load(\"Pretrained_models/Clickbaitv2\")"
   ]
  },
  {
   "cell_type": "code",
   "execution_count": 24,
   "metadata": {},
   "outputs": [],
   "source": [
    "s = np.array([\"You won’t believe how these 9 shocking clickbaits work! (number 8 is a killer!)\"])"
   ]
  },
  {
   "cell_type": "code",
   "execution_count": 30,
   "metadata": {},
   "outputs": [
    {
     "data": {
      "text/plain": [
       "array([[ 0.80701214]], dtype=float32)"
      ]
     },
     "execution_count": 30,
     "metadata": {},
     "output_type": "execute_result"
    }
   ],
   "source": [
    "from keras.models import load_model\n",
    "model = load_model('Pretrained_models/Clickbaitv3.h5')\n",
    "tfidf = pickle.load(open(\"prediction/tfidf_clickbait.p\", \"rb\"))\n",
    "model.predict(tfidf.transform(s).todense())"
   ]
  },
  {
   "cell_type": "code",
   "execution_count": 32,
   "metadata": {},
   "outputs": [
    {
     "data": {
      "text/plain": [
       "0.80701214"
      ]
     },
     "execution_count": 32,
     "metadata": {},
     "output_type": "execute_result"
    }
   ],
   "source": [
    "Out[30][0,0]"
   ]
  },
  {
   "cell_type": "code",
   "execution_count": null,
   "metadata": {},
   "outputs": [],
   "source": [
    "from keras.models import Sequential\n",
    "from keras.layers import Dense, Dropout\n",
    "\n",
    "model = Sequential()\n",
    "model.add(Dense(5000,input_dim = x_train.shape[1],activation='relu'))\n",
    "model.add(Dense(500, activation='relu'))\n",
    "model.add(Dense(1))\n",
    "model.compile(loss='mse', optimizer='adam')\n",
    "model.fit(x_train, y_train, validation_split = 0.2, epochs=10, batch_size=500)\n",
    "model.save(\"Pretrained_models/Clickbaitv1\")"
   ]
  },
  {
   "cell_type": "code",
   "execution_count": null,
   "metadata": {},
   "outputs": [],
   "source": []
  }
 ],
 "metadata": {
  "kernelspec": {
   "display_name": "Python 3",
   "language": "python",
   "name": "python3"
  },
  "language_info": {
   "codemirror_mode": {
    "name": "ipython",
    "version": 3
   },
   "file_extension": ".py",
   "mimetype": "text/x-python",
   "name": "python",
   "nbconvert_exporter": "python",
   "pygments_lexer": "ipython3",
   "version": "3.5.3"
  }
 },
 "nbformat": 4,
 "nbformat_minor": 2
}
