{
 "cells": [
  {
   "cell_type": "code",
   "execution_count": 1,
   "metadata": {},
   "outputs": [],
   "source": [
    "import tensorflow as tf\n",
    "import matplotlib.pyplot as plt\n",
    "import numpy as np\n",
    "from sklearn.feature_extraction.text import TfidfVectorizer\n",
    "import sklearn.preprocessing as pre\n",
    "import tensorflow as tf\n",
    "import pandas as pd"
   ]
  },
  {
   "cell_type": "code",
   "execution_count": 2,
   "metadata": {},
   "outputs": [
    {
     "name": "stderr",
     "output_type": "stream",
     "text": [
      "/usr/local/lib/python3.5/dist-packages/ipykernel_launcher.py:1: ParserWarning: Falling back to the 'python' engine because the 'c' engine does not support regex separators (separators > 1 char and different from '\\s+' are interpreted as regex); you can avoid this warning by specifying engine='python'.\n",
      "  \"\"\"Entry point for launching an IPython kernel.\n"
     ]
    }
   ],
   "source": [
    "df = pd.read_csv(\"Training_Datasets/clickbait_dataset.csv\", sep = \";;\", header = None) "
   ]
  },
  {
   "cell_type": "code",
   "execution_count": 3,
   "metadata": {},
   "outputs": [],
   "source": [
    "sentences = list(df[0])\n",
    "labels = list(df[1])"
   ]
  },
  {
   "cell_type": "code",
   "execution_count": 4,
   "metadata": {},
   "outputs": [],
   "source": [
    "NTRAIN = 25000\n",
    "\n",
    "tfidf = TfidfVectorizer(min_df=2)\n",
    "x_train = np.array(tfidf.fit_transform(sentences[:NTRAIN]).todense(), dtype=np.float32)\n",
    "x_validation  = np.array(tfidf.transform    (sentences[NTRAIN:]).todense(), dtype=np.float32)\n",
    "\n",
    "x_train = pre.normalize(x_train)\n",
    "x_validation  = pre.normalize(x_validation)\n",
    "\n",
    "y_train = np.array([int(i) for i in labels[:NTRAIN]])\n",
    "y_validation = np.array([int(i) for i in labels[NTRAIN:]])"
   ]
  },
  {
   "cell_type": "code",
   "execution_count": 15,
   "metadata": {},
   "outputs": [
    {
     "data": {
      "text/plain": [
       "(6898, 11198)"
      ]
     },
     "execution_count": 15,
     "metadata": {},
     "output_type": "execute_result"
    }
   ],
   "source": [
    "x_validation.shape"
   ]
  },
  {
   "cell_type": "code",
   "execution_count": 5,
   "metadata": {},
   "outputs": [],
   "source": [
    "nsamples = x_train.shape[0]\n",
    "dim      = x_train.shape[1]\n"
   ]
  },
  {
   "cell_type": "code",
   "execution_count": null,
   "metadata": {},
   "outputs": [],
   "source": [
    "om"
   ]
  },
  {
   "cell_type": "code",
   "execution_count": 13,
   "metadata": {},
   "outputs": [
    {
     "data": {
      "text/plain": [
       "<tf.Variable 'Variable:0' shape=(11198, 20) dtype=float32_ref>"
      ]
     },
     "execution_count": 13,
     "metadata": {},
     "output_type": "execute_result"
    }
   ],
   "source": [
    "W"
   ]
  },
  {
   "cell_type": "code",
   "execution_count": 6,
   "metadata": {},
   "outputs": [],
   "source": [
    "# Parameters\n",
    "learning_rate = 0.1\n",
    "training_epochs = 50\n",
    "display_step = 1\n",
    "hidden = 20\n",
    "\n",
    "#\n",
    "\n",
    "x_val = tf.constant(x_validation)\n",
    "y_val = tf.constant(y_validation)\n",
    "\n",
    "# tf Graph Input: 3 variables: query, pos and negative. \n",
    "qry = tf.placeholder(tf.float32, [1, dim])\n",
    "pos = tf.placeholder(tf.float32, [1, dim])\n",
    "neg = tf.placeholder(tf.float32, [1, dim])\n",
    "\n",
    "# The embedding parameters\n",
    "# Projection matrix\n",
    "W = tf.Variable(tf.random_normal([dim, hidden]))\n",
    "# We also add a bias term\n",
    "b = tf.Variable(tf.zeros([hidden]))\n",
    "\n",
    "# Function to embed the inputs\n",
    "eqry = tf.matmul(qry, W) + b\n",
    "epos = tf.matmul(pos, W) + b\n",
    "eneg = tf.matmul(neg, W) + b\n",
    "\n",
    "# Define triplet loss in the space of the embeddings\n",
    "cost = tf.maximum(0.0, 1 + tf.matmul(eqry, tf.transpose(tf.subtract(eneg, epos))))\n",
    "\n",
    "# Gradient Descent Optimizer\n",
    "optimizer = tf.train.GradientDescentOptimizer(learning_rate).minimize(cost)\n",
    "\n",
    "#Accuracy\n",
    "accuracy = tf.metrics.accuracy(labels = y_val, logits = tf.matmul(W, x_val) + b)\n",
    "# Function to initialize the variables\n",
    "init = tf.global_variables_initializer()"
   ]
  },
  {
   "cell_type": "code",
   "execution_count": 7,
   "metadata": {},
   "outputs": [],
   "source": [
    "from tqdm import tqdm_notebook as t"
   ]
  },
  {
   "cell_type": "code",
   "execution_count": null,
   "metadata": {},
   "outputs": [
    {
     "data": {
      "application/vnd.jupyter.widget-view+json": {
       "model_id": "5a56f5e0d2bc48d08c0cec6266baadcf",
       "version_major": 2,
       "version_minor": 0
      },
      "text/html": [
       "<p>Failed to display Jupyter Widget of type <code>HBox</code>.</p>\n",
       "<p>\n",
       "  If you're reading this message in the Jupyter Notebook or JupyterLab Notebook, it may mean\n",
       "  that the widgets JavaScript is still loading. If this message persists, it\n",
       "  likely means that the widgets JavaScript library is either not installed or\n",
       "  not enabled. See the <a href=\"https://ipywidgets.readthedocs.io/en/stable/user_install.html\">Jupyter\n",
       "  Widgets Documentation</a> for setup instructions.\n",
       "</p>\n",
       "<p>\n",
       "  If you're reading this message in another frontend (for example, a static\n",
       "  rendering on GitHub or <a href=\"https://nbviewer.jupyter.org/\">NBViewer</a>),\n",
       "  it may mean that your frontend doesn't currently support widgets.\n",
       "</p>\n"
      ],
      "text/plain": [
       "HBox(children=(IntProgress(value=0, max=1), HTML(value='')))"
      ]
     },
     "metadata": {},
     "output_type": "display_data"
    },
    {
     "data": {
      "application/vnd.jupyter.widget-view+json": {
       "model_id": "7e4a7176439f4025aa661a129b52a07e",
       "version_major": 2,
       "version_minor": 0
      },
      "text/html": [
       "<p>Failed to display Jupyter Widget of type <code>HBox</code>.</p>\n",
       "<p>\n",
       "  If you're reading this message in the Jupyter Notebook or JupyterLab Notebook, it may mean\n",
       "  that the widgets JavaScript is still loading. If this message persists, it\n",
       "  likely means that the widgets JavaScript library is either not installed or\n",
       "  not enabled. See the <a href=\"https://ipywidgets.readthedocs.io/en/stable/user_install.html\">Jupyter\n",
       "  Widgets Documentation</a> for setup instructions.\n",
       "</p>\n",
       "<p>\n",
       "  If you're reading this message in another frontend (for example, a static\n",
       "  rendering on GitHub or <a href=\"https://nbviewer.jupyter.org/\">NBViewer</a>),\n",
       "  it may mean that your frontend doesn't currently support widgets.\n",
       "</p>\n"
      ],
      "text/plain": [
       "HBox(children=(IntProgress(value=0, max=25000), HTML(value='')))"
      ]
     },
     "metadata": {},
     "output_type": "display_data"
    }
   ],
   "source": [
    "# Launch the graph\n",
    "with tf.Session() as sess:\n",
    "    with tf.device(\"/cpu:0\"):\n",
    "        # Initialize\n",
    "        sess.run(init)\n",
    "        # Training cycle\n",
    "        for epoch in t(range(training_epochs)):\n",
    "            avg_cost = 0.\n",
    "            # Loop over all samples\n",
    "            for i in t(np.arange(0, nsamples)):        \n",
    "\n",
    "                # Each \"input sample\" consists of a \"query\", a positive and a negative example\n",
    "                # This is constructed on the fly\n",
    "                # Ideally, this should be precomputed\n",
    "\n",
    "                # Query: take the next training example\n",
    "                x_qry = x_train[i,None]\n",
    "\n",
    "                # Positive: sample a training example from the same class as the query\n",
    "                idx  = np.where(y_train == y_train[i])[0]\n",
    "                r = np.random.randint(len(idx))\n",
    "                ipos = idx[r]\n",
    "                x_pos = x_train[ipos,None]\n",
    "\n",
    "                # Negative: sample a training example with a different class label \n",
    "                idx  = np.where(np.logical_not(y_train == y_train[i]))[0]\n",
    "                r = np.random.randint(len(idx))\n",
    "                ineg = idx[r]\n",
    "                x_neg = x_train[ineg,None]\n",
    "\n",
    "                # Perform gradient step\n",
    "                _, c = sess.run([optimizer, cost], feed_dict={qry: x_qry,\n",
    "                                                              pos: x_pos,\n",
    "                                                              neg: x_neg})\n",
    "                # Update loss of this epoch\n",
    "                avg_cost += c \n",
    "\n",
    "            # Display logs per epoch step\n",
    "            if (epoch+1) % display_step == 0:\n",
    "                print(\"Epoch:\", epoch+1, avg_cost/nsamples)\n",
    "                What = sess.run(W)\n",
    "                bhat = sess.run(b)\n",
    "                #eval_metric(What, bhat, epoch+1)\n",
    "\n",
    "        print(\"Optimization Finished!\")\n",
    "\n",
    "        # Persist model parameters as numpy arrays\n",
    "        What = sess.run(W)\n",
    "        bhat = sess.run(b)\n"
   ]
  },
  {
   "cell_type": "code",
   "execution_count": null,
   "metadata": {},
   "outputs": [],
   "source": []
  }
 ],
 "metadata": {
  "kernelspec": {
   "display_name": "Python 3",
   "language": "python",
   "name": "python3"
  },
  "language_info": {
   "codemirror_mode": {
    "name": "ipython",
    "version": 3
   },
   "file_extension": ".py",
   "mimetype": "text/x-python",
   "name": "python",
   "nbconvert_exporter": "python",
   "pygments_lexer": "ipython3",
   "version": "3.5.3"
  }
 },
 "nbformat": 4,
 "nbformat_minor": 2
}
