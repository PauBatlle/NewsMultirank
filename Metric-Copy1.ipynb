{
 "cells": [
  {
   "cell_type": "code",
   "execution_count": 3,
   "metadata": {},
   "outputs": [],
   "source": [
    "import tensorflow as tf\n",
    "import matplotlib.pyplot as plt\n",
    "import numpy as np\n",
    "from sklearn.feature_extraction.text import TfidfVectorizer\n",
    "import sklearn.preprocessing as pre\n",
    "import tensorflow as tf\n",
    "import pandas as pd"
   ]
  },
  {
   "cell_type": "code",
   "execution_count": 4,
   "metadata": {},
   "outputs": [
    {
     "name": "stderr",
     "output_type": "stream",
     "text": [
      "/usr/local/lib/python3.5/dist-packages/ipykernel_launcher.py:1: ParserWarning: Falling back to the 'python' engine because the 'c' engine does not support regex separators (separators > 1 char and different from '\\s+' are interpreted as regex); you can avoid this warning by specifying engine='python'.\n",
      "  \"\"\"Entry point for launching an IPython kernel.\n"
     ]
    }
   ],
   "source": [
    "df = pd.read_csv(\"Training_Datasets/clickbait_dataset.csv\", sep = \";;\", header = None) \n",
    "npb = np.load(\"Training_Datasets/clickbait2.npy\")"
   ]
  },
  {
   "cell_type": "code",
   "execution_count": 5,
   "metadata": {},
   "outputs": [],
   "source": [
    "blacklist = np.load(\"blacklist.npy\")"
   ]
  },
  {
   "cell_type": "code",
   "execution_count": 6,
   "metadata": {
    "scrolled": true
   },
   "outputs": [],
   "source": [
    "npa = df.as_matrix()\n",
    "npb = np.array([npb[i] for i in range(len(npb)) if i not in blacklist])"
   ]
  },
  {
   "cell_type": "code",
   "execution_count": 7,
   "metadata": {},
   "outputs": [],
   "source": [
    "xa = npa[:,0]\n",
    "ya = npa[:,1]\n",
    "xb = npb[:,0]\n",
    "yb = npb[:,1].astype(float)"
   ]
  },
  {
   "cell_type": "code",
   "execution_count": 8,
   "metadata": {},
   "outputs": [],
   "source": [
    "x_tot = np.hstack([xa, xb])\n",
    "y_tot = np.hstack([ya, yb])"
   ]
  },
  {
   "cell_type": "code",
   "execution_count": 9,
   "metadata": {},
   "outputs": [],
   "source": [
    "p = np.random.permutation(len(x_tot))\n",
    "x_tot = x_tot[p]\n",
    "y_tot = y_tot[p]"
   ]
  },
  {
   "cell_type": "code",
   "execution_count": 14,
   "metadata": {},
   "outputs": [],
   "source": [
    ">>> from sklearn.feature_extraction.text import TfidfVectorizer\n",
    "tfidf = TfidfVectorizer(min_df=3)\n",
    "x_train = np.array(tfidf.fit_transform(x_tot).todense(), dtype=np.float32)\n",
    "x_train = pre.normalize(x_train)\n",
    "y_train = np.array([i for i in y_tot])\n"
   ]
  },
  {
   "cell_type": "code",
   "execution_count": 21,
   "metadata": {},
   "outputs": [
    {
     "name": "stdout",
     "output_type": "stream",
     "text": [
      "Train on 42856 samples, validate on 10714 samples\n",
      "Epoch 1/10\n",
      "42856/42856 [==============================] - 245s 6ms/step - loss: 6.1898 - val_loss: 0.1543\n",
      "Epoch 2/10\n",
      "42856/42856 [==============================] - 258s 6ms/step - loss: 0.1505 - val_loss: 0.1482\n",
      "Epoch 3/10\n",
      "42856/42856 [==============================] - 269s 6ms/step - loss: 0.1445 - val_loss: 0.1391\n",
      "Epoch 4/10\n",
      "42856/42856 [==============================] - 261s 6ms/step - loss: 0.1349 - val_loss: 0.1304\n",
      "Epoch 5/10\n",
      "42856/42856 [==============================] - 276s 6ms/step - loss: 0.1284 - val_loss: 0.1233\n",
      "Epoch 6/10\n",
      "42856/42856 [==============================] - 259s 6ms/step - loss: 0.1214 - val_loss: 0.1185\n",
      "Epoch 7/10\n",
      "42856/42856 [==============================] - 256s 6ms/step - loss: 0.1181 - val_loss: 0.1178\n",
      "Epoch 8/10\n",
      "42856/42856 [==============================] - 267s 6ms/step - loss: 0.1172 - val_loss: 0.1145\n",
      "Epoch 9/10\n",
      "42856/42856 [==============================] - 266s 6ms/step - loss: 0.1145 - val_loss: 0.1132\n",
      "Epoch 10/10\n",
      "42856/42856 [==============================] - 270s 6ms/step - loss: 0.1107 - val_loss: 0.1074\n"
     ]
    }
   ],
   "source": [
    "from keras.models import Sequential\n",
    "from keras.layers import Dense, Dropout\n",
    "from keras import regularizers\n",
    "model = Sequential()\n",
    "model.add(Dense(5000,input_dim = x_train.shape[1],activation='relu', kernel_regularizer=regularizers.l2(0.01)))\n",
    "model.add(Dropout(0.2))\n",
    "model.add(Dense(500, activation='relu', kernel_regularizer=regularizers.l2(0.01)))\n",
    "model.add(Dropout(0.2))\n",
    "model.add(Dense(1))\n",
    "model.compile(loss='mse', optimizer='adam')\n",
    "model.fit(x_train, y_train, validation_split = 0.2, epochs=10, batch_size=500)\n",
    "model.save(\"Pretrained_models/Clickbaitv2\")"
   ]
  },
  {
   "cell_type": "code",
   "execution_count": null,
   "metadata": {},
   "outputs": [],
   "source": [
    "from keras.models import Sequential\n",
    "from keras.layers import Dense, Dropout\n",
    "\n",
    "model = Sequential()\n",
    "model.add(Dense(5000,input_dim = x_train.shape[1],activation='relu'))\n",
    "model.add(Dense(500, activation='relu'))\n",
    "model.add(Dense(1))\n",
    "model.compile(loss='mse', optimizer='adam')\n",
    "model.fit(x_train, y_train, validation_split = 0.2, epochs=10, batch_size=500)\n",
    "model.save(\"Pretrained_models/Clickbaitv1\")"
   ]
  },
  {
   "cell_type": "code",
   "execution_count": null,
   "metadata": {},
   "outputs": [],
   "source": []
  }
 ],
 "metadata": {
  "kernelspec": {
   "display_name": "Python 3",
   "language": "python",
   "name": "python3"
  },
  "language_info": {
   "codemirror_mode": {
    "name": "ipython",
    "version": 3
   },
   "file_extension": ".py",
   "mimetype": "text/x-python",
   "name": "python",
   "nbconvert_exporter": "python",
   "pygments_lexer": "ipython3",
   "version": "3.5.3"
  }
 },
 "nbformat": 4,
 "nbformat_minor": 2
}
