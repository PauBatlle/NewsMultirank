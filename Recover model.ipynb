{
 "cells": [
  {
   "cell_type": "code",
   "execution_count": 89,
   "metadata": {},
   "outputs": [],
   "source": [
    "import tensorflow as tf\n",
    "import pickle\n",
    "from util import *"
   ]
  },
  {
   "cell_type": "code",
   "execution_count": 91,
   "metadata": {},
   "outputs": [],
   "source": [
    "tf.reset_default_graph() \n",
    "\n",
    "# Add ops to save and restore all the variables.\n",
    "feature_size = 10001\n",
    "hidden_size = 100\n",
    "target_size = 4\n",
    "\n",
    "# Create placeholders\n",
    "features_pl = tf.placeholder(tf.float32, [None, feature_size], 'features')\n",
    "stances_pl = tf.placeholder(tf.int64, [None], 'stances')\n",
    "keep_prob_pl = tf.placeholder(tf.float32)\n",
    "\n",
    "# Infer batch size\n",
    "batch_size = tf.shape(features_pl)[0]\n",
    "\n",
    "# Define multi-layer perceptron\n",
    "hidden_layer = tf.nn.dropout(tf.nn.relu(tf.contrib.layers.linear(features_pl, hidden_size)), keep_prob=keep_prob_pl)\n",
    "logits_flat = tf.nn.dropout(tf.contrib.layers.linear(hidden_layer, target_size), keep_prob=keep_prob_pl)\n",
    "logits = tf.reshape(logits_flat, [batch_size, target_size])\n",
    "\n",
    "# Define prediction\n",
    "softmaxed_logits = tf.nn.softmax(logits)\n",
    "predict = tf.argmax(softmaxed_logits, 1)\n",
    "\n",
    "saver = tf.train.Saver()\n"
   ]
  },
  {
   "cell_type": "code",
   "execution_count": 92,
   "metadata": {
    "scrolled": true
   },
   "outputs": [],
   "source": [
    "bow_vectorizer = pickle.load((open(\"BoW.p\", 'rb')))\n",
    "tfreq_vectorizer = pickle.load((open(\"Tfreq.p\", 'rb')))\n",
    "tfidf_vectorizer = pickle.load((open(\"Tfidf.p\", 'rb')))"
   ]
  },
  {
   "cell_type": "code",
   "execution_count": 93,
   "metadata": {},
   "outputs": [],
   "source": [
    "file_test_instances = \"Training_Datasets/test_stances_unlabeled.csv\"\n",
    "file_test_bodies = \"Training_Datasets/test_bodies.csv\"\n",
    "\n",
    "raw_test = FNCData(file_test_instances, file_test_bodies)\n",
    "test_set = pipeline_test(raw_test, bow_vectorizer, tfreq_vectorizer, tfidf_vectorizer)"
   ]
  },
  {
   "cell_type": "code",
   "execution_count": 88,
   "metadata": {
    "scrolled": true
   },
   "outputs": [
    {
     "data": {
      "text/plain": [
       "array([ 0.,  0.,  0., ...,  0.,  0.,  0.])"
      ]
     },
     "execution_count": 88,
     "metadata": {},
     "output_type": "execute_result"
    }
   ],
   "source": [
    "test_set[0]"
   ]
  },
  {
   "cell_type": "code",
   "execution_count": 77,
   "metadata": {},
   "outputs": [
    {
     "name": "stdout",
     "output_type": "stream",
     "text": [
      "INFO:tensorflow:Restoring parameters from ./Pretrained_models/mislead.ckpt\n"
     ]
    },
    {
     "name": "stderr",
     "output_type": "stream",
     "text": [
      "INFO:tensorflow:Restoring parameters from ./Pretrained_models/mislead.ckpt\n"
     ]
    }
   ],
   "source": [
    "with tf.Session() as sess:\n",
    "  # Restore variables from disk.\n",
    "    saver.restore(sess, \"./Pretrained_models/mislead.ckpt\")\n",
    "    test_feed_dict = {features_pl: test_set, keep_prob_pl: 1.0}\n",
    "    test_pred = sess.run(predict, feed_dict=test_feed_dict)\n"
   ]
  },
  {
   "cell_type": "code",
   "execution_count": 78,
   "metadata": {},
   "outputs": [
    {
     "data": {
      "text/plain": [
       "array([3, 3, 3, ..., 3, 3, 3])"
      ]
     },
     "execution_count": 78,
     "metadata": {},
     "output_type": "execute_result"
    }
   ],
   "source": [
    "test_pred"
   ]
  },
  {
   "cell_type": "code",
   "execution_count": 79,
   "metadata": {},
   "outputs": [
    {
     "data": {
      "text/plain": [
       "(array([0, 1, 2, 3]), array([ 2772,     8,  4921, 17712]))"
      ]
     },
     "execution_count": 79,
     "metadata": {},
     "output_type": "execute_result"
    }
   ],
   "source": [
    "np.unique(test_pred, return_counts = True)"
   ]
  },
  {
   "cell_type": "code",
   "execution_count": 68,
   "metadata": {},
   "outputs": [
    {
     "data": {
      "text/plain": [
       "(25413, 10001)"
      ]
     },
     "execution_count": 68,
     "metadata": {},
     "output_type": "execute_result"
    }
   ],
   "source": [
    "len(test_set), len(test_set[0])"
   ]
  }
 ],
 "metadata": {
  "kernelspec": {
   "display_name": "Python 3",
   "language": "python",
   "name": "python3"
  },
  "language_info": {
   "codemirror_mode": {
    "name": "ipython",
    "version": 3
   },
   "file_extension": ".py",
   "mimetype": "text/x-python",
   "name": "python",
   "nbconvert_exporter": "python",
   "pygments_lexer": "ipython3",
   "version": "3.5.3"
  }
 },
 "nbformat": 4,
 "nbformat_minor": 2
}
